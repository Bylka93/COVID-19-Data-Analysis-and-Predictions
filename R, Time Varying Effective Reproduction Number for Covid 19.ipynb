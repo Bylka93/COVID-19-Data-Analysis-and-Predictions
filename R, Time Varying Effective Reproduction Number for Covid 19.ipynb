{
 "cells": [
  {
   "cell_type": "code",
   "execution_count": 1,
   "metadata": {},
   "outputs": [],
   "source": [
    "#!pip install epyestim"
   ]
  },
  {
   "cell_type": "code",
   "execution_count": 1,
   "metadata": {},
   "outputs": [],
   "source": [
    "import pandas as pd\n",
    "import numpy as np\n",
    "import epyestim as ep"
   ]
  },
  {
   "cell_type": "code",
   "execution_count": 2,
   "metadata": {},
   "outputs": [],
   "source": [
    "import matplotlib as mpl\n",
    "import matplotlib.pyplot as plt\n",
    "plt.style.use('seaborn-white')\n",
    "%matplotlib inline\n",
    "from scipy.stats import gamma, poisson\n",
    "import epyestim\n",
    "import epyestim.covid19 as covid19"
   ]
  },
  {
   "cell_type": "code",
   "execution_count": 3,
   "metadata": {},
   "outputs": [],
   "source": [
    "data1=pd.read_csv(\"epidemiology.csv\")"
   ]
  },
  {
   "cell_type": "code",
   "execution_count": 4,
   "metadata": {},
   "outputs": [
    {
     "data": {
      "text/html": [
       "<div>\n",
       "<style scoped>\n",
       "    .dataframe tbody tr th:only-of-type {\n",
       "        vertical-align: middle;\n",
       "    }\n",
       "\n",
       "    .dataframe tbody tr th {\n",
       "        vertical-align: top;\n",
       "    }\n",
       "\n",
       "    .dataframe thead th {\n",
       "        text-align: right;\n",
       "    }\n",
       "</style>\n",
       "<table border=\"1\" class=\"dataframe\">\n",
       "  <thead>\n",
       "    <tr style=\"text-align: right;\">\n",
       "      <th></th>\n",
       "      <th>date</th>\n",
       "      <th>key</th>\n",
       "      <th>new_confirmed</th>\n",
       "      <th>new_deceased</th>\n",
       "      <th>new_recovered</th>\n",
       "      <th>new_tested</th>\n",
       "      <th>total_confirmed</th>\n",
       "      <th>total_deceased</th>\n",
       "      <th>total_recovered</th>\n",
       "      <th>total_tested</th>\n",
       "    </tr>\n",
       "  </thead>\n",
       "  <tbody>\n",
       "    <tr>\n",
       "      <th>0</th>\n",
       "      <td>2019-10-23</td>\n",
       "      <td>CZ</td>\n",
       "      <td>NaN</td>\n",
       "      <td>NaN</td>\n",
       "      <td>1.0</td>\n",
       "      <td>NaN</td>\n",
       "      <td>NaN</td>\n",
       "      <td>NaN</td>\n",
       "      <td>1.0</td>\n",
       "      <td>NaN</td>\n",
       "    </tr>\n",
       "    <tr>\n",
       "      <th>1</th>\n",
       "      <td>2019-10-23</td>\n",
       "      <td>CZ_32</td>\n",
       "      <td>NaN</td>\n",
       "      <td>NaN</td>\n",
       "      <td>1.0</td>\n",
       "      <td>NaN</td>\n",
       "      <td>NaN</td>\n",
       "      <td>NaN</td>\n",
       "      <td>1.0</td>\n",
       "      <td>NaN</td>\n",
       "    </tr>\n",
       "    <tr>\n",
       "      <th>2</th>\n",
       "      <td>2019-10-23</td>\n",
       "      <td>CZ_32_325</td>\n",
       "      <td>NaN</td>\n",
       "      <td>NaN</td>\n",
       "      <td>1.0</td>\n",
       "      <td>NaN</td>\n",
       "      <td>NaN</td>\n",
       "      <td>NaN</td>\n",
       "      <td>1.0</td>\n",
       "      <td>NaN</td>\n",
       "    </tr>\n",
       "    <tr>\n",
       "      <th>3</th>\n",
       "      <td>2019-12-31</td>\n",
       "      <td>AR</td>\n",
       "      <td>NaN</td>\n",
       "      <td>NaN</td>\n",
       "      <td>NaN</td>\n",
       "      <td>4.0</td>\n",
       "      <td>NaN</td>\n",
       "      <td>NaN</td>\n",
       "      <td>NaN</td>\n",
       "      <td>4.0</td>\n",
       "    </tr>\n",
       "    <tr>\n",
       "      <th>4</th>\n",
       "      <td>2019-12-31</td>\n",
       "      <td>CZ</td>\n",
       "      <td>NaN</td>\n",
       "      <td>NaN</td>\n",
       "      <td>1.0</td>\n",
       "      <td>NaN</td>\n",
       "      <td>NaN</td>\n",
       "      <td>NaN</td>\n",
       "      <td>2.0</td>\n",
       "      <td>NaN</td>\n",
       "    </tr>\n",
       "  </tbody>\n",
       "</table>\n",
       "</div>"
      ],
      "text/plain": [
       "         date        key  new_confirmed  new_deceased  new_recovered  \\\n",
       "0  2019-10-23         CZ            NaN           NaN            1.0   \n",
       "1  2019-10-23      CZ_32            NaN           NaN            1.0   \n",
       "2  2019-10-23  CZ_32_325            NaN           NaN            1.0   \n",
       "3  2019-12-31         AR            NaN           NaN            NaN   \n",
       "4  2019-12-31         CZ            NaN           NaN            1.0   \n",
       "\n",
       "   new_tested  total_confirmed  total_deceased  total_recovered  total_tested  \n",
       "0         NaN              NaN             NaN              1.0           NaN  \n",
       "1         NaN              NaN             NaN              1.0           NaN  \n",
       "2         NaN              NaN             NaN              1.0           NaN  \n",
       "3         4.0              NaN             NaN              NaN           4.0  \n",
       "4         NaN              NaN             NaN              2.0           NaN  "
      ]
     },
     "execution_count": 4,
     "metadata": {},
     "output_type": "execute_result"
    }
   ],
   "source": [
    "data1.head()"
   ]
  },
  {
   "cell_type": "code",
   "execution_count": 5,
   "metadata": {},
   "outputs": [],
   "source": [
    "def missing_values_percentage(df):\n",
    "    percent_missing = df.isnull().sum() * 100 / len(df)\n",
    "    missing_value_df = pd.DataFrame({'column name': df.columns,\n",
    "                                 'percentage of missing': percent_missing})\n",
    "    return missing_value_df "
   ]
  },
  {
   "cell_type": "code",
   "execution_count": 6,
   "metadata": {},
   "outputs": [],
   "source": [
    "data= data1[['date', 'key', 'new_confirmed']].copy()"
   ]
  },
  {
   "cell_type": "markdown",
   "metadata": {},
   "source": [
    "# MAPING "
   ]
  },
  {
   "cell_type": "markdown",
   "metadata": {},
   "source": [
    "# Finland "
   ]
  },
  {
   "cell_type": "code",
   "execution_count": 7,
   "metadata": {},
   "outputs": [
    {
     "data": {
      "text/html": [
       "<div>\n",
       "<style scoped>\n",
       "    .dataframe tbody tr th:only-of-type {\n",
       "        vertical-align: middle;\n",
       "    }\n",
       "\n",
       "    .dataframe tbody tr th {\n",
       "        vertical-align: top;\n",
       "    }\n",
       "\n",
       "    .dataframe thead th {\n",
       "        text-align: right;\n",
       "    }\n",
       "</style>\n",
       "<table border=\"1\" class=\"dataframe\">\n",
       "  <thead>\n",
       "    <tr style=\"text-align: right;\">\n",
       "      <th></th>\n",
       "      <th>column name</th>\n",
       "      <th>percentage of missing</th>\n",
       "    </tr>\n",
       "  </thead>\n",
       "  <tbody>\n",
       "    <tr>\n",
       "      <th>date</th>\n",
       "      <td>date</td>\n",
       "      <td>0.0</td>\n",
       "    </tr>\n",
       "    <tr>\n",
       "      <th>key</th>\n",
       "      <td>key</td>\n",
       "      <td>0.0</td>\n",
       "    </tr>\n",
       "    <tr>\n",
       "      <th>new_confirmed</th>\n",
       "      <td>new_confirmed</td>\n",
       "      <td>0.0</td>\n",
       "    </tr>\n",
       "  </tbody>\n",
       "</table>\n",
       "</div>"
      ],
      "text/plain": [
       "                 column name  percentage of missing\n",
       "date                    date                    0.0\n",
       "key                      key                    0.0\n",
       "new_confirmed  new_confirmed                    0.0"
      ]
     },
     "execution_count": 7,
     "metadata": {},
     "output_type": "execute_result"
    }
   ],
   "source": [
    "finland=data.loc[data['key'] == \"FI\"]\n",
    "#Finland}\n",
    "missing_values_percentage(finland)"
   ]
  },
  {
   "cell_type": "code",
   "execution_count": 8,
   "metadata": {},
   "outputs": [
    {
     "name": "stderr",
     "output_type": "stream",
     "text": [
      "C:\\Users\\narhab18\\Anaconda3\\envs\\twitter\\lib\\site-packages\\ipykernel_launcher.py:1: SettingWithCopyWarning: \n",
      "A value is trying to be set on a copy of a slice from a DataFrame.\n",
      "Try using .loc[row_indexer,col_indexer] = value instead\n",
      "\n",
      "See the caveats in the documentation: https://pandas.pydata.org/pandas-docs/stable/user_guide/indexing.html#returning-a-view-versus-a-copy\n",
      "  \"\"\"Entry point for launching an IPython kernel.\n"
     ]
    }
   ],
   "source": [
    "finland['new_confirmed']=finland['new_confirmed'].astype('int64')"
   ]
  },
  {
   "cell_type": "code",
   "execution_count": 9,
   "metadata": {},
   "outputs": [],
   "source": [
    "fin= finland[['date', 'new_confirmed']].copy()"
   ]
  },
  {
   "cell_type": "code",
   "execution_count": 10,
   "metadata": {},
   "outputs": [],
   "source": [
    "#fin.columns = ['Date', 'Cases']"
   ]
  },
  {
   "cell_type": "code",
   "execution_count": 11,
   "metadata": {},
   "outputs": [],
   "source": [
    "fin=fin.dropna() "
   ]
  },
  {
   "cell_type": "code",
   "execution_count": 12,
   "metadata": {},
   "outputs": [],
   "source": [
    "from datetime import datetime\n",
    "for i in fin.index:\n",
    "    #o=fin.loc[i, \"date\"]\n",
    "    #print(o)\n",
    "    #break\n",
    "    fin.loc[i, \"date\"]= datetime.strptime(fin.loc[i, \"date\"], '%Y-%m-%d')"
   ]
  },
  {
   "cell_type": "markdown",
   "metadata": {},
   "source": [
    "# Germany"
   ]
  },
  {
   "cell_type": "code",
   "execution_count": 13,
   "metadata": {},
   "outputs": [
    {
     "data": {
      "text/html": [
       "<div>\n",
       "<style scoped>\n",
       "    .dataframe tbody tr th:only-of-type {\n",
       "        vertical-align: middle;\n",
       "    }\n",
       "\n",
       "    .dataframe tbody tr th {\n",
       "        vertical-align: top;\n",
       "    }\n",
       "\n",
       "    .dataframe thead th {\n",
       "        text-align: right;\n",
       "    }\n",
       "</style>\n",
       "<table border=\"1\" class=\"dataframe\">\n",
       "  <thead>\n",
       "    <tr style=\"text-align: right;\">\n",
       "      <th></th>\n",
       "      <th>column name</th>\n",
       "      <th>percentage of missing</th>\n",
       "    </tr>\n",
       "  </thead>\n",
       "  <tbody>\n",
       "    <tr>\n",
       "      <th>date</th>\n",
       "      <td>date</td>\n",
       "      <td>0.0</td>\n",
       "    </tr>\n",
       "    <tr>\n",
       "      <th>key</th>\n",
       "      <td>key</td>\n",
       "      <td>0.0</td>\n",
       "    </tr>\n",
       "    <tr>\n",
       "      <th>new_confirmed</th>\n",
       "      <td>new_confirmed</td>\n",
       "      <td>0.0</td>\n",
       "    </tr>\n",
       "  </tbody>\n",
       "</table>\n",
       "</div>"
      ],
      "text/plain": [
       "                 column name  percentage of missing\n",
       "date                    date                    0.0\n",
       "key                      key                    0.0\n",
       "new_confirmed  new_confirmed                    0.0"
      ]
     },
     "execution_count": 13,
     "metadata": {},
     "output_type": "execute_result"
    }
   ],
   "source": [
    "germany=data.loc[data['key'] == \"DE\"]\n",
    "#Finland\n",
    "missing_values_percentage(germany)"
   ]
  },
  {
   "cell_type": "code",
   "execution_count": 14,
   "metadata": {},
   "outputs": [
    {
     "name": "stderr",
     "output_type": "stream",
     "text": [
      "C:\\Users\\narhab18\\Anaconda3\\envs\\twitter\\lib\\site-packages\\ipykernel_launcher.py:1: SettingWithCopyWarning: \n",
      "A value is trying to be set on a copy of a slice from a DataFrame.\n",
      "Try using .loc[row_indexer,col_indexer] = value instead\n",
      "\n",
      "See the caveats in the documentation: https://pandas.pydata.org/pandas-docs/stable/user_guide/indexing.html#returning-a-view-versus-a-copy\n",
      "  \"\"\"Entry point for launching an IPython kernel.\n"
     ]
    }
   ],
   "source": [
    "germany['new_confirmed']=germany['new_confirmed'].astype('int64')\n",
    "ger= germany[['date', 'new_confirmed']].copy()\n",
    "ger=ger.dropna() \n",
    "for i in ger.index:\n",
    "    #o=fin.loc[i, \"date\"]\n",
    "    #print(o)\n",
    "    #break\n",
    "    ger.loc[i, \"date\"]= datetime.strptime(ger.loc[i, \"date\"], '%Y-%m-%d')"
   ]
  },
  {
   "cell_type": "markdown",
   "metadata": {},
   "source": [
    "# France"
   ]
  },
  {
   "cell_type": "code",
   "execution_count": 15,
   "metadata": {},
   "outputs": [
    {
     "data": {
      "text/html": [
       "<div>\n",
       "<style scoped>\n",
       "    .dataframe tbody tr th:only-of-type {\n",
       "        vertical-align: middle;\n",
       "    }\n",
       "\n",
       "    .dataframe tbody tr th {\n",
       "        vertical-align: top;\n",
       "    }\n",
       "\n",
       "    .dataframe thead th {\n",
       "        text-align: right;\n",
       "    }\n",
       "</style>\n",
       "<table border=\"1\" class=\"dataframe\">\n",
       "  <thead>\n",
       "    <tr style=\"text-align: right;\">\n",
       "      <th></th>\n",
       "      <th>column name</th>\n",
       "      <th>percentage of missing</th>\n",
       "    </tr>\n",
       "  </thead>\n",
       "  <tbody>\n",
       "    <tr>\n",
       "      <th>date</th>\n",
       "      <td>date</td>\n",
       "      <td>0.0</td>\n",
       "    </tr>\n",
       "    <tr>\n",
       "      <th>key</th>\n",
       "      <td>key</td>\n",
       "      <td>0.0</td>\n",
       "    </tr>\n",
       "    <tr>\n",
       "      <th>new_confirmed</th>\n",
       "      <td>new_confirmed</td>\n",
       "      <td>0.0</td>\n",
       "    </tr>\n",
       "  </tbody>\n",
       "</table>\n",
       "</div>"
      ],
      "text/plain": [
       "                 column name  percentage of missing\n",
       "date                    date                    0.0\n",
       "key                      key                    0.0\n",
       "new_confirmed  new_confirmed                    0.0"
      ]
     },
     "execution_count": 15,
     "metadata": {},
     "output_type": "execute_result"
    }
   ],
   "source": [
    "France=data.loc[data['key'] == \"FR\"]\n",
    "#Finland\n",
    "missing_values_percentage(France)"
   ]
  },
  {
   "cell_type": "code",
   "execution_count": 16,
   "metadata": {},
   "outputs": [
    {
     "name": "stderr",
     "output_type": "stream",
     "text": [
      "C:\\Users\\narhab18\\Anaconda3\\envs\\twitter\\lib\\site-packages\\ipykernel_launcher.py:1: SettingWithCopyWarning: \n",
      "A value is trying to be set on a copy of a slice from a DataFrame.\n",
      "Try using .loc[row_indexer,col_indexer] = value instead\n",
      "\n",
      "See the caveats in the documentation: https://pandas.pydata.org/pandas-docs/stable/user_guide/indexing.html#returning-a-view-versus-a-copy\n",
      "  \"\"\"Entry point for launching an IPython kernel.\n"
     ]
    }
   ],
   "source": [
    "France['new_confirmed']=France['new_confirmed'].astype('int64')\n",
    "fr= France[['date', 'new_confirmed']].copy()\n",
    "fr=fr.dropna() \n",
    "for i in fr.index:\n",
    "    #o=fin.loc[i, \"date\"]\n",
    "    #print(o)\n",
    "    #break\n",
    "    fr.loc[i, \"date\"]= datetime.strptime(fr.loc[i, \"date\"], '%Y-%m-%d')"
   ]
  },
  {
   "cell_type": "markdown",
   "metadata": {},
   "source": [
    "# England"
   ]
  },
  {
   "cell_type": "code",
   "execution_count": 17,
   "metadata": {},
   "outputs": [
    {
     "data": {
      "text/html": [
       "<div>\n",
       "<style scoped>\n",
       "    .dataframe tbody tr th:only-of-type {\n",
       "        vertical-align: middle;\n",
       "    }\n",
       "\n",
       "    .dataframe tbody tr th {\n",
       "        vertical-align: top;\n",
       "    }\n",
       "\n",
       "    .dataframe thead th {\n",
       "        text-align: right;\n",
       "    }\n",
       "</style>\n",
       "<table border=\"1\" class=\"dataframe\">\n",
       "  <thead>\n",
       "    <tr style=\"text-align: right;\">\n",
       "      <th></th>\n",
       "      <th>column name</th>\n",
       "      <th>percentage of missing</th>\n",
       "    </tr>\n",
       "  </thead>\n",
       "  <tbody>\n",
       "    <tr>\n",
       "      <th>date</th>\n",
       "      <td>date</td>\n",
       "      <td>0.0</td>\n",
       "    </tr>\n",
       "    <tr>\n",
       "      <th>key</th>\n",
       "      <td>key</td>\n",
       "      <td>0.0</td>\n",
       "    </tr>\n",
       "    <tr>\n",
       "      <th>new_confirmed</th>\n",
       "      <td>new_confirmed</td>\n",
       "      <td>0.0</td>\n",
       "    </tr>\n",
       "  </tbody>\n",
       "</table>\n",
       "</div>"
      ],
      "text/plain": [
       "                 column name  percentage of missing\n",
       "date                    date                    0.0\n",
       "key                      key                    0.0\n",
       "new_confirmed  new_confirmed                    0.0"
      ]
     },
     "execution_count": 17,
     "metadata": {},
     "output_type": "execute_result"
    }
   ],
   "source": [
    "england=data.loc[data['key'] == \"GB_ENG\"]\n",
    "#Finland\n",
    "missing_values_percentage(england)"
   ]
  },
  {
   "cell_type": "code",
   "execution_count": 18,
   "metadata": {},
   "outputs": [
    {
     "name": "stderr",
     "output_type": "stream",
     "text": [
      "C:\\Users\\narhab18\\Anaconda3\\envs\\twitter\\lib\\site-packages\\ipykernel_launcher.py:1: SettingWithCopyWarning: \n",
      "A value is trying to be set on a copy of a slice from a DataFrame.\n",
      "Try using .loc[row_indexer,col_indexer] = value instead\n",
      "\n",
      "See the caveats in the documentation: https://pandas.pydata.org/pandas-docs/stable/user_guide/indexing.html#returning-a-view-versus-a-copy\n",
      "  \"\"\"Entry point for launching an IPython kernel.\n"
     ]
    }
   ],
   "source": [
    "england['new_confirmed']=england['new_confirmed'].astype('int64')\n",
    "eng= england[['date', 'new_confirmed']].copy()\n",
    "eng=eng.dropna() \n",
    "for i in eng.index:\n",
    "    #o=fin.loc[i, \"date\"]\n",
    "    #print(o)\n",
    "    #break\n",
    "    eng.loc[i, \"date\"]= datetime.strptime(eng.loc[i, \"date\"], '%Y-%m-%d')"
   ]
  },
  {
   "cell_type": "markdown",
   "metadata": {},
   "source": [
    "# Ignore outlier for the moment "
   ]
  },
  {
   "cell_type": "markdown",
   "metadata": {},
   "source": [
    "# Finland "
   ]
  },
  {
   "cell_type": "code",
   "execution_count": 19,
   "metadata": {},
   "outputs": [
    {
     "data": {
      "text/plain": [
       "pandas.core.series.Series"
      ]
     },
     "execution_count": 19,
     "metadata": {},
     "output_type": "execute_result"
    }
   ],
   "source": [
    "fin_cases=fin.set_index('date')['new_confirmed']\n",
    "type(fin_cases)"
   ]
  },
  {
   "cell_type": "code",
   "execution_count": 20,
   "metadata": {},
   "outputs": [],
   "source": [
    "#ch_cases=ch_cases.squeeze()\n",
    "#type(ch_cases)"
   ]
  },
  {
   "cell_type": "code",
   "execution_count": 21,
   "metadata": {},
   "outputs": [
    {
     "name": "stdout",
     "output_type": "stream",
     "text": [
      "Everything worked fine!\n"
     ]
    }
   ],
   "source": [
    "example_series_ = fin_cases[:196]\n",
    "try:\n",
    "    example_r = covid19.r_covid(example_series_)\n",
    "    print('Everything worked fine!')\n",
    "except AssertionError as err:\n",
    "    print(f'AssertionError: {err}')"
   ]
  },
  {
   "cell_type": "code",
   "execution_count": 22,
   "metadata": {},
   "outputs": [
    {
     "data": {
      "text/plain": [
       "196"
      ]
     },
     "execution_count": 22,
     "metadata": {},
     "output_type": "execute_result"
    }
   ],
   "source": [
    "len(example_series_)"
   ]
  },
  {
   "cell_type": "code",
   "execution_count": 23,
   "metadata": {},
   "outputs": [
    {
     "data": {
      "text/plain": [
       "123"
      ]
     },
     "execution_count": 23,
     "metadata": {},
     "output_type": "execute_result"
    }
   ],
   "source": [
    "len(example_r)"
   ]
  },
  {
   "cell_type": "code",
   "execution_count": 24,
   "metadata": {},
   "outputs": [
    {
     "name": "stdout",
     "output_type": "stream",
     "text": [
      "Everything worked fine!\n"
     ]
    }
   ],
   "source": [
    "example_series_2 = fin_cases[201:]\n",
    "try:\n",
    "    example_r2 = covid19.r_covid(example_series_2)\n",
    "    print('Everything worked fine!')\n",
    "except AssertionError as err:\n",
    "    print(f'AssertionError: {err}')"
   ]
  },
  {
   "cell_type": "code",
   "execution_count": 25,
   "metadata": {},
   "outputs": [
    {
     "data": {
      "text/plain": [
       "185"
      ]
     },
     "execution_count": 25,
     "metadata": {},
     "output_type": "execute_result"
    }
   ],
   "source": [
    "len(example_series_2)"
   ]
  },
  {
   "cell_type": "code",
   "execution_count": 26,
   "metadata": {},
   "outputs": [
    {
     "data": {
      "text/plain": [
       "170"
      ]
     },
     "execution_count": 26,
     "metadata": {},
     "output_type": "execute_result"
    }
   ],
   "source": [
    "len(example_r2)"
   ]
  },
  {
   "cell_type": "code",
   "execution_count": 27,
   "metadata": {},
   "outputs": [],
   "source": [
    "example_r_FINAL=example_r.append(example_r2)"
   ]
  },
  {
   "cell_type": "code",
   "execution_count": 28,
   "metadata": {},
   "outputs": [
    {
     "data": {
      "text/plain": [
       "293"
      ]
     },
     "execution_count": 28,
     "metadata": {},
     "output_type": "execute_result"
    }
   ],
   "source": [
    "len(example_r_FINAL)"
   ]
  },
  {
   "cell_type": "code",
   "execution_count": 29,
   "metadata": {},
   "outputs": [
    {
     "data": {
      "text/html": [
       "<div>\n",
       "<style scoped>\n",
       "    .dataframe tbody tr th:only-of-type {\n",
       "        vertical-align: middle;\n",
       "    }\n",
       "\n",
       "    .dataframe tbody tr th {\n",
       "        vertical-align: top;\n",
       "    }\n",
       "\n",
       "    .dataframe thead th {\n",
       "        text-align: right;\n",
       "    }\n",
       "</style>\n",
       "<table border=\"1\" class=\"dataframe\">\n",
       "  <thead>\n",
       "    <tr style=\"text-align: right;\">\n",
       "      <th></th>\n",
       "      <th>cases</th>\n",
       "      <th>R_mean</th>\n",
       "      <th>R_var</th>\n",
       "      <th>Q0.025</th>\n",
       "      <th>Q0.5</th>\n",
       "      <th>Q0.975</th>\n",
       "    </tr>\n",
       "  </thead>\n",
       "  <tbody>\n",
       "    <tr>\n",
       "      <th>2021-01-06</th>\n",
       "      <td>331.0</td>\n",
       "      <td>1.033065</td>\n",
       "      <td>0.001409</td>\n",
       "      <td>0.961246</td>\n",
       "      <td>1.032617</td>\n",
       "      <td>1.107779</td>\n",
       "    </tr>\n",
       "    <tr>\n",
       "      <th>2021-01-07</th>\n",
       "      <td>223.0</td>\n",
       "      <td>1.034316</td>\n",
       "      <td>0.001399</td>\n",
       "      <td>0.962750</td>\n",
       "      <td>1.033871</td>\n",
       "      <td>1.109572</td>\n",
       "    </tr>\n",
       "    <tr>\n",
       "      <th>2021-01-08</th>\n",
       "      <td>296.0</td>\n",
       "      <td>1.036010</td>\n",
       "      <td>0.001383</td>\n",
       "      <td>0.963799</td>\n",
       "      <td>1.035549</td>\n",
       "      <td>1.111105</td>\n",
       "    </tr>\n",
       "    <tr>\n",
       "      <th>2021-01-09</th>\n",
       "      <td>324.0</td>\n",
       "      <td>1.034487</td>\n",
       "      <td>0.001370</td>\n",
       "      <td>0.963103</td>\n",
       "      <td>1.034048</td>\n",
       "      <td>1.107907</td>\n",
       "    </tr>\n",
       "    <tr>\n",
       "      <th>2021-01-10</th>\n",
       "      <td>198.0</td>\n",
       "      <td>1.036861</td>\n",
       "      <td>0.001363</td>\n",
       "      <td>0.965515</td>\n",
       "      <td>1.036423</td>\n",
       "      <td>1.110631</td>\n",
       "    </tr>\n",
       "  </tbody>\n",
       "</table>\n",
       "</div>"
      ],
      "text/plain": [
       "            cases    R_mean     R_var    Q0.025      Q0.5    Q0.975\n",
       "2021-01-06  331.0  1.033065  0.001409  0.961246  1.032617  1.107779\n",
       "2021-01-07  223.0  1.034316  0.001399  0.962750  1.033871  1.109572\n",
       "2021-01-08  296.0  1.036010  0.001383  0.963799  1.035549  1.111105\n",
       "2021-01-09  324.0  1.034487  0.001370  0.963103  1.034048  1.107907\n",
       "2021-01-10  198.0  1.036861  0.001363  0.965515  1.036423  1.110631"
      ]
     },
     "execution_count": 29,
     "metadata": {},
     "output_type": "execute_result"
    }
   ],
   "source": [
    "example_r_FINAL.tail()"
   ]
  },
  {
   "cell_type": "code",
   "execution_count": 30,
   "metadata": {},
   "outputs": [
    {
     "name": "stdout",
     "output_type": "stream",
     "text": [
      "386\n",
      "293\n"
     ]
    }
   ],
   "source": [
    "print(len(fin_cases))\n",
    "print(len(example_r_FINAL))"
   ]
  },
  {
   "cell_type": "code",
   "execution_count": 31,
   "metadata": {},
   "outputs": [
    {
     "data": {
      "image/png": "[encoded data removed]",
      "text/plain": [
       "<Figure size 864x288 with 1 Axes>"
      ]
     },
     "metadata": {
      "needs_background": "light"
     },
     "output_type": "display_data"
    }
   ],
   "source": [
    "fig, ax = plt.subplots(1,1, figsize=(12, 4))\n",
    "\n",
    "example_r_FINAL.loc[:,'Q0.5'].plot(ax=ax, color='red')\n",
    "ax.fill_between(example_r_FINAL.index, \n",
    "                    example_r_FINAL['Q0.025'], \n",
    "                    example_r_FINAL['Q0.975'], \n",
    "                    color='red', alpha=0.2)\n",
    "ax.set_xlabel('date')\n",
    "ax.set_ylabel('R(t) with 95%-CI')\n",
    "ax.set_ylim([0,3])\n",
    "ax.axhline(y=1)\n",
    "ax.set_title('Estimate of time-varying effective reproduction number for Finland')\n",
    "plt.savefig(\"R in Finland\")\n",
    "plt.show()"
   ]
  },
  {
   "cell_type": "markdown",
   "metadata": {},
   "source": [
    "# Germany"
   ]
  },
  {
   "cell_type": "code",
   "execution_count": 32,
   "metadata": {},
   "outputs": [
    {
     "data": {
      "text/html": [
       "<div>\n",
       "<style scoped>\n",
       "    .dataframe tbody tr th:only-of-type {\n",
       "        vertical-align: middle;\n",
       "    }\n",
       "\n",
       "    .dataframe tbody tr th {\n",
       "        vertical-align: top;\n",
       "    }\n",
       "\n",
       "    .dataframe thead th {\n",
       "        text-align: right;\n",
       "    }\n",
       "</style>\n",
       "<table border=\"1\" class=\"dataframe\">\n",
       "  <thead>\n",
       "    <tr style=\"text-align: right;\">\n",
       "      <th></th>\n",
       "      <th>cases</th>\n",
       "      <th>R_mean</th>\n",
       "      <th>R_var</th>\n",
       "      <th>Q0.025</th>\n",
       "      <th>Q0.5</th>\n",
       "      <th>Q0.975</th>\n",
       "    </tr>\n",
       "  </thead>\n",
       "  <tbody>\n",
       "    <tr>\n",
       "      <th>2021-01-03</th>\n",
       "      <td>11897.0</td>\n",
       "      <td>1.063625</td>\n",
       "      <td>0.000019</td>\n",
       "      <td>1.055105</td>\n",
       "      <td>1.063619</td>\n",
       "      <td>1.072178</td>\n",
       "    </tr>\n",
       "    <tr>\n",
       "      <th>2021-01-04</th>\n",
       "      <td>21237.0</td>\n",
       "      <td>1.018166</td>\n",
       "      <td>0.000018</td>\n",
       "      <td>1.009973</td>\n",
       "      <td>1.018160</td>\n",
       "      <td>1.026391</td>\n",
       "    </tr>\n",
       "    <tr>\n",
       "      <th>2021-01-05</th>\n",
       "      <td>26391.0</td>\n",
       "      <td>0.975002</td>\n",
       "      <td>0.000017</td>\n",
       "      <td>0.967056</td>\n",
       "      <td>0.974996</td>\n",
       "      <td>0.982979</td>\n",
       "    </tr>\n",
       "    <tr>\n",
       "      <th>2021-01-06</th>\n",
       "      <td>31849.0</td>\n",
       "      <td>0.928111</td>\n",
       "      <td>0.000016</td>\n",
       "      <td>0.920373</td>\n",
       "      <td>0.928106</td>\n",
       "      <td>0.935882</td>\n",
       "    </tr>\n",
       "    <tr>\n",
       "      <th>2021-01-07</th>\n",
       "      <td>24694.0</td>\n",
       "      <td>0.879578</td>\n",
       "      <td>0.000015</td>\n",
       "      <td>0.872026</td>\n",
       "      <td>0.879572</td>\n",
       "      <td>0.887167</td>\n",
       "    </tr>\n",
       "  </tbody>\n",
       "</table>\n",
       "</div>"
      ],
      "text/plain": [
       "              cases    R_mean     R_var    Q0.025      Q0.5    Q0.975\n",
       "2021-01-03  11897.0  1.063625  0.000019  1.055105  1.063619  1.072178\n",
       "2021-01-04  21237.0  1.018166  0.000018  1.009973  1.018160  1.026391\n",
       "2021-01-05  26391.0  0.975002  0.000017  0.967056  0.974996  0.982979\n",
       "2021-01-06  31849.0  0.928111  0.000016  0.920373  0.928106  0.935882\n",
       "2021-01-07  24694.0  0.879578  0.000015  0.872026  0.879572  0.887167"
      ]
     },
     "execution_count": 32,
     "metadata": {},
     "output_type": "execute_result"
    }
   ],
   "source": [
    "ger_cases=ger.set_index('date')['new_confirmed']\n",
    "#type(ch_cases)\n",
    "ger_time_varying_r = covid19.r_covid(ger_cases)\n",
    "ger_time_varying_r.tail()"
   ]
  },
  {
   "cell_type": "code",
   "execution_count": 33,
   "metadata": {},
   "outputs": [
    {
     "name": "stdout",
     "output_type": "stream",
     "text": [
      "383\n",
      "338\n"
     ]
    }
   ],
   "source": [
    "print(len(ger_cases))\n",
    "print(len(ger_time_varying_r))"
   ]
  },
  {
   "cell_type": "code",
   "execution_count": 41,
   "metadata": {},
   "outputs": [
    {
     "data": {
      "image/png": "[encoded data removed]",
      "text/plain": [
       "<Figure size 864x288 with 1 Axes>"
      ]
     },
     "metadata": {
      "needs_background": "light"
     },
     "output_type": "display_data"
    }
   ],
   "source": [
    "fig, ax = plt.subplots(1,1, figsize=(12, 4))\n",
    "\n",
    "ger_time_varying_r.loc[:,'Q0.5'].plot(ax=ax, color='red')\n",
    "ax.fill_between(ger_time_varying_r.index, \n",
    "                    ger_time_varying_r['Q0.025'], \n",
    "                    ger_time_varying_r['Q0.975'], \n",
    "                    color='red', alpha=0.2)\n",
    "ax.set_xlabel('date', fontweight=\"bold\")\n",
    "ax.set_ylabel('R(t) with 95%-CI', fontweight=\"bold\")\n",
    "ax.set_ylim([0,3])\n",
    "ax.axhline(y=1)\n",
    "ax.set_title('Estimate of time-varying effective reproduction number for Germany', fontweight=\"bold\")\n",
    "plt.savefig(\"RinGermany300DPI\", dpi=300)\n",
    "\n",
    "plt.show()"
   ]
  },
  {
   "cell_type": "markdown",
   "metadata": {},
   "source": [
    "# France"
   ]
  },
  {
   "cell_type": "code",
   "execution_count": 36,
   "metadata": {},
   "outputs": [],
   "source": [
    "import sys \n",
    "fr_cases=fr.set_index('date')['new_confirmed']\n",
    "#type(ch_cases)\n",
    "fr_cases.dropna(inplace=True)"
   ]
  },
  {
   "cell_type": "code",
   "execution_count": 37,
   "metadata": {},
   "outputs": [],
   "source": [
    "#fr_time_varying_r = covid19.r_covid(fr_cases)\n",
    "#fr_time_varying_r.tail()"
   ]
  },
  {
   "cell_type": "code",
   "execution_count": 38,
   "metadata": {},
   "outputs": [
    {
     "name": "stdout",
     "output_type": "stream",
     "text": [
      "Everything worked fine!\n"
     ]
    }
   ],
   "source": [
    "example_series_01 = fr_cases[1:119]\n",
    "try:\n",
    "    fr_time_varying_r = covid19.r_covid(example_series_01)\n",
    "    print('Everything worked fine!')\n",
    "except AssertionError as err:\n",
    "    print(f'AssertionError: {err}')"
   ]
  },
  {
   "cell_type": "code",
   "execution_count": 39,
   "metadata": {},
   "outputs": [
    {
     "name": "stdout",
     "output_type": "stream",
     "text": [
      "Everything worked fine!\n"
     ]
    }
   ],
   "source": [
    "example_series_02 = fr_cases[154:]\n",
    "try:\n",
    "    fr_time_varying_r = covid19.r_covid(example_series_02)\n",
    "    print('Everything worked fine!')\n",
    "except AssertionError as err:\n",
    "    print(f'AssertionError: {err}')"
   ]
  },
  {
   "cell_type": "code",
   "execution_count": 40,
   "metadata": {},
   "outputs": [
    {
     "data": {
      "text/html": [
       "<div>\n",
       "<style scoped>\n",
       "    .dataframe tbody tr th:only-of-type {\n",
       "        vertical-align: middle;\n",
       "    }\n",
       "\n",
       "    .dataframe tbody tr th {\n",
       "        vertical-align: top;\n",
       "    }\n",
       "\n",
       "    .dataframe thead th {\n",
       "        text-align: right;\n",
       "    }\n",
       "</style>\n",
       "<table border=\"1\" class=\"dataframe\">\n",
       "  <thead>\n",
       "    <tr style=\"text-align: right;\">\n",
       "      <th></th>\n",
       "      <th>cases</th>\n",
       "      <th>R_mean</th>\n",
       "      <th>R_var</th>\n",
       "      <th>Q0.025</th>\n",
       "      <th>Q0.5</th>\n",
       "      <th>Q0.975</th>\n",
       "    </tr>\n",
       "  </thead>\n",
       "  <tbody>\n",
       "    <tr>\n",
       "      <th>2021-01-05</th>\n",
       "      <td>20489.0</td>\n",
       "      <td>1.006755</td>\n",
       "      <td>0.000018</td>\n",
       "      <td>0.998561</td>\n",
       "      <td>1.006749</td>\n",
       "      <td>1.014983</td>\n",
       "    </tr>\n",
       "    <tr>\n",
       "      <th>2021-01-06</th>\n",
       "      <td>25379.0</td>\n",
       "      <td>0.985519</td>\n",
       "      <td>0.000017</td>\n",
       "      <td>0.977499</td>\n",
       "      <td>0.985513</td>\n",
       "      <td>0.993571</td>\n",
       "    </tr>\n",
       "    <tr>\n",
       "      <th>2021-01-07</th>\n",
       "      <td>21703.0</td>\n",
       "      <td>0.989371</td>\n",
       "      <td>0.000017</td>\n",
       "      <td>0.981352</td>\n",
       "      <td>0.989365</td>\n",
       "      <td>0.997414</td>\n",
       "    </tr>\n",
       "    <tr>\n",
       "      <th>2021-01-08</th>\n",
       "      <td>19814.0</td>\n",
       "      <td>0.993862</td>\n",
       "      <td>0.000017</td>\n",
       "      <td>0.985794</td>\n",
       "      <td>0.993856</td>\n",
       "      <td>1.001962</td>\n",
       "    </tr>\n",
       "    <tr>\n",
       "      <th>2021-01-09</th>\n",
       "      <td>20177.0</td>\n",
       "      <td>0.983346</td>\n",
       "      <td>0.000017</td>\n",
       "      <td>0.975312</td>\n",
       "      <td>0.983341</td>\n",
       "      <td>0.991413</td>\n",
       "    </tr>\n",
       "  </tbody>\n",
       "</table>\n",
       "</div>"
      ],
      "text/plain": [
       "              cases    R_mean     R_var    Q0.025      Q0.5    Q0.975\n",
       "2021-01-05  20489.0  1.006755  0.000018  0.998561  1.006749  1.014983\n",
       "2021-01-06  25379.0  0.985519  0.000017  0.977499  0.985513  0.993571\n",
       "2021-01-07  21703.0  0.989371  0.000017  0.981352  0.989365  0.997414\n",
       "2021-01-08  19814.0  0.993862  0.000017  0.985794  0.993856  1.001962\n",
       "2021-01-09  20177.0  0.983346  0.000017  0.975312  0.983341  0.991413"
      ]
     },
     "execution_count": 40,
     "metadata": {},
     "output_type": "execute_result"
    }
   ],
   "source": [
    "example_rFRANCE_FINAL=fr_time_varying_r.append(fr_time_varying_r)\n",
    "example_rFRANCE_FINAL.tail()"
   ]
  },
  {
   "cell_type": "code",
   "execution_count": 41,
   "metadata": {},
   "outputs": [
    {
     "data": {
      "text/plain": [
       "pandas.core.frame.DataFrame"
      ]
     },
     "execution_count": 41,
     "metadata": {},
     "output_type": "execute_result"
    }
   ],
   "source": [
    "type(example_rFRANCE_FINAL)"
   ]
  },
  {
   "cell_type": "code",
   "execution_count": 42,
   "metadata": {},
   "outputs": [
    {
     "data": {
      "image/png": "[encoded data removed]",
      "text/plain": [
       "<Figure size 864x288 with 1 Axes>"
      ]
     },
     "metadata": {
      "needs_background": "light"
     },
     "output_type": "display_data"
    }
   ],
   "source": [
    "fig, ax = plt.subplots(1,1, figsize=(12, 4))\n",
    "\n",
    "example_rFRANCE_FINAL.loc[:,'Q0.5'].plot(ax=ax, color='red')\n",
    "ax.fill_between(example_rFRANCE_FINAL.index, \n",
    "                    example_rFRANCE_FINAL['Q0.025'], \n",
    "                    example_rFRANCE_FINAL['Q0.975'], \n",
    "                    color='red', alpha=0.2)\n",
    "ax.set_xlabel('date')\n",
    "ax.set_ylabel('R(t) with 95%-CI')\n",
    "ax.set_ylim([0,3])\n",
    "ax.axhline(y=1)\n",
    "ax.set_title('Estimate of time-varying effective reproduction number for France')\n",
    "plt.savefig(\"R in France\")\n",
    "\n",
    "plt.show()"
   ]
  },
  {
   "cell_type": "markdown",
   "metadata": {},
   "source": [
    "# England "
   ]
  },
  {
   "cell_type": "code",
   "execution_count": 43,
   "metadata": {},
   "outputs": [
    {
     "data": {
      "text/html": [
       "<div>\n",
       "<style scoped>\n",
       "    .dataframe tbody tr th:only-of-type {\n",
       "        vertical-align: middle;\n",
       "    }\n",
       "\n",
       "    .dataframe tbody tr th {\n",
       "        vertical-align: top;\n",
       "    }\n",
       "\n",
       "    .dataframe thead th {\n",
       "        text-align: right;\n",
       "    }\n",
       "</style>\n",
       "<table border=\"1\" class=\"dataframe\">\n",
       "  <thead>\n",
       "    <tr style=\"text-align: right;\">\n",
       "      <th></th>\n",
       "      <th>cases</th>\n",
       "      <th>R_mean</th>\n",
       "      <th>R_var</th>\n",
       "      <th>Q0.025</th>\n",
       "      <th>Q0.5</th>\n",
       "      <th>Q0.975</th>\n",
       "    </tr>\n",
       "  </thead>\n",
       "  <tbody>\n",
       "    <tr>\n",
       "      <th>2021-01-04</th>\n",
       "      <td>69031.0</td>\n",
       "      <td>0.747981</td>\n",
       "      <td>0.000004</td>\n",
       "      <td>0.743856</td>\n",
       "      <td>0.747979</td>\n",
       "      <td>0.752118</td>\n",
       "    </tr>\n",
       "    <tr>\n",
       "      <th>2021-01-05</th>\n",
       "      <td>57715.0</td>\n",
       "      <td>0.716527</td>\n",
       "      <td>0.000004</td>\n",
       "      <td>0.712375</td>\n",
       "      <td>0.716525</td>\n",
       "      <td>0.720690</td>\n",
       "    </tr>\n",
       "    <tr>\n",
       "      <th>2021-01-06</th>\n",
       "      <td>51147.0</td>\n",
       "      <td>0.685219</td>\n",
       "      <td>0.000005</td>\n",
       "      <td>0.681020</td>\n",
       "      <td>0.685217</td>\n",
       "      <td>0.689431</td>\n",
       "    </tr>\n",
       "    <tr>\n",
       "      <th>2021-01-07</th>\n",
       "      <td>46601.0</td>\n",
       "      <td>0.648036</td>\n",
       "      <td>0.000005</td>\n",
       "      <td>0.643795</td>\n",
       "      <td>0.648034</td>\n",
       "      <td>0.652291</td>\n",
       "    </tr>\n",
       "    <tr>\n",
       "      <th>2021-01-08</th>\n",
       "      <td>42257.0</td>\n",
       "      <td>0.606636</td>\n",
       "      <td>0.000005</td>\n",
       "      <td>0.602348</td>\n",
       "      <td>0.606633</td>\n",
       "      <td>0.610939</td>\n",
       "    </tr>\n",
       "  </tbody>\n",
       "</table>\n",
       "</div>"
      ],
      "text/plain": [
       "              cases    R_mean     R_var    Q0.025      Q0.5    Q0.975\n",
       "2021-01-04  69031.0  0.747981  0.000004  0.743856  0.747979  0.752118\n",
       "2021-01-05  57715.0  0.716527  0.000004  0.712375  0.716525  0.720690\n",
       "2021-01-06  51147.0  0.685219  0.000005  0.681020  0.685217  0.689431\n",
       "2021-01-07  46601.0  0.648036  0.000005  0.643795  0.648034  0.652291\n",
       "2021-01-08  42257.0  0.606636  0.000005  0.602348  0.606633  0.610939"
      ]
     },
     "execution_count": 43,
     "metadata": {},
     "output_type": "execute_result"
    }
   ],
   "source": [
    "eng_cases=eng.set_index('date')['new_confirmed']\n",
    "#type(ch_cases)\n",
    "eng_time_varying_r = covid19.r_covid(eng_cases)\n",
    "eng_time_varying_r.tail()"
   ]
  },
  {
   "cell_type": "code",
   "execution_count": 44,
   "metadata": {},
   "outputs": [
    {
     "name": "stdout",
     "output_type": "stream",
     "text": [
      "355\n",
      "333\n"
     ]
    }
   ],
   "source": [
    "print(len(eng_cases))\n",
    "print(len(eng_time_varying_r))"
   ]
  },
  {
   "cell_type": "code",
   "execution_count": 45,
   "metadata": {},
   "outputs": [
    {
     "data": {
      "image/png": "[encoded data removed]",
      "text/plain": [
       "<Figure size 864x288 with 1 Axes>"
      ]
     },
     "metadata": {
      "needs_background": "light"
     },
     "output_type": "display_data"
    }
   ],
   "source": [
    "fig, ax = plt.subplots(1,1, figsize=(12, 4))\n",
    "\n",
    "eng_time_varying_r.loc[:,'Q0.5'].plot(ax=ax, color='red')\n",
    "ax.fill_between(eng_time_varying_r.index, \n",
    "                    eng_time_varying_r['Q0.025'], \n",
    "                    eng_time_varying_r['Q0.975'], \n",
    "                    color='red', alpha=0.2)\n",
    "ax.set_xlabel('date')\n",
    "ax.set_ylabel('R(t) with 95%-CI')\n",
    "ax.set_ylim([0,3])\n",
    "ax.axhline(y=1)\n",
    "ax.set_title('Estimate of time-varying effective reproduction number for England')\n",
    "plt.savefig(\"R in England\")\n",
    "plt.show()"
   ]
  },
  {
   "cell_type": "code",
   "execution_count": 46,
   "metadata": {},
   "outputs": [],
   "source": [
    "#import sys\n",
    "#sys.version"
   ]
  },
  {
   "cell_type": "code",
   "execution_count": 47,
   "metadata": {},
   "outputs": [],
   "source": [
    "import pandas as pd\n",
    "import numpy as np\n",
    "import matplotlib.pyplot as plt\n",
    "from sklearn.linear_model import LinearRegression"
   ]
  },
  {
   "cell_type": "markdown",
   "metadata": {},
   "source": [
    "prepeare the weather "
   ]
  },
  {
   "cell_type": "code",
   "execution_count": 48,
   "metadata": {},
   "outputs": [],
   "source": [
    "dataWeather=pd.read_csv(\"weather.csv\")"
   ]
  },
  {
   "cell_type": "code",
   "execution_count": 49,
   "metadata": {},
   "outputs": [],
   "source": [
    "newWatherDATA= dataWeather[['date', 'key', 'average_temperature', 'rainfall', 'relative_humidity' ]].copy()"
   ]
  },
  {
   "cell_type": "code",
   "execution_count": 50,
   "metadata": {},
   "outputs": [],
   "source": [
    "FinlandWeather =newWatherDATA.loc[newWatherDATA['key'] == \"FI\"]"
   ]
  },
  {
   "cell_type": "code",
   "execution_count": 51,
   "metadata": {},
   "outputs": [
    {
     "data": {
      "text/html": [
       "<div>\n",
       "<style scoped>\n",
       "    .dataframe tbody tr th:only-of-type {\n",
       "        vertical-align: middle;\n",
       "    }\n",
       "\n",
       "    .dataframe tbody tr th {\n",
       "        vertical-align: top;\n",
       "    }\n",
       "\n",
       "    .dataframe thead th {\n",
       "        text-align: right;\n",
       "    }\n",
       "</style>\n",
       "<table border=\"1\" class=\"dataframe\">\n",
       "  <thead>\n",
       "    <tr style=\"text-align: right;\">\n",
       "      <th></th>\n",
       "      <th>date</th>\n",
       "      <th>key</th>\n",
       "      <th>average_temperature</th>\n",
       "      <th>rainfall</th>\n",
       "      <th>relative_humidity</th>\n",
       "    </tr>\n",
       "  </thead>\n",
       "  <tbody>\n",
       "    <tr>\n",
       "      <th>9950</th>\n",
       "      <td>2020-01-01</td>\n",
       "      <td>FI</td>\n",
       "      <td>-3.450000</td>\n",
       "      <td>1.143000</td>\n",
       "      <td>94.427827</td>\n",
       "    </tr>\n",
       "    <tr>\n",
       "      <th>31023</th>\n",
       "      <td>2020-01-02</td>\n",
       "      <td>FI</td>\n",
       "      <td>3.211111</td>\n",
       "      <td>0.762000</td>\n",
       "      <td>85.090429</td>\n",
       "    </tr>\n",
       "    <tr>\n",
       "      <th>52095</th>\n",
       "      <td>2020-01-03</td>\n",
       "      <td>FI</td>\n",
       "      <td>1.988889</td>\n",
       "      <td>1.342571</td>\n",
       "      <td>82.629384</td>\n",
       "    </tr>\n",
       "    <tr>\n",
       "      <th>73163</th>\n",
       "      <td>2020-01-04</td>\n",
       "      <td>FI</td>\n",
       "      <td>-3.377778</td>\n",
       "      <td>1.270000</td>\n",
       "      <td>86.510224</td>\n",
       "    </tr>\n",
       "    <tr>\n",
       "      <th>94208</th>\n",
       "      <td>2020-01-05</td>\n",
       "      <td>FI</td>\n",
       "      <td>-8.872222</td>\n",
       "      <td>0.444500</td>\n",
       "      <td>88.163132</td>\n",
       "    </tr>\n",
       "    <tr>\n",
       "      <th>...</th>\n",
       "      <td>...</td>\n",
       "      <td>...</td>\n",
       "      <td>...</td>\n",
       "      <td>...</td>\n",
       "      <td>...</td>\n",
       "    </tr>\n",
       "    <tr>\n",
       "      <th>8154035</th>\n",
       "      <td>2021-01-22</td>\n",
       "      <td>FI</td>\n",
       "      <td>-12.483333</td>\n",
       "      <td>3.556000</td>\n",
       "      <td>81.978858</td>\n",
       "    </tr>\n",
       "    <tr>\n",
       "      <th>8174061</th>\n",
       "      <td>2021-01-23</td>\n",
       "      <td>FI</td>\n",
       "      <td>-9.988889</td>\n",
       "      <td>8.445500</td>\n",
       "      <td>86.730309</td>\n",
       "    </tr>\n",
       "    <tr>\n",
       "      <th>8194039</th>\n",
       "      <td>2021-01-24</td>\n",
       "      <td>FI</td>\n",
       "      <td>-2.450000</td>\n",
       "      <td>1.886857</td>\n",
       "      <td>95.967037</td>\n",
       "    </tr>\n",
       "    <tr>\n",
       "      <th>8215076</th>\n",
       "      <td>2021-01-25</td>\n",
       "      <td>FI</td>\n",
       "      <td>-2.988889</td>\n",
       "      <td>2.095500</td>\n",
       "      <td>96.141700</td>\n",
       "    </tr>\n",
       "    <tr>\n",
       "      <th>8236117</th>\n",
       "      <td>2021-01-26</td>\n",
       "      <td>FI</td>\n",
       "      <td>-1.666667</td>\n",
       "      <td>0.698500</td>\n",
       "      <td>97.222353</td>\n",
       "    </tr>\n",
       "  </tbody>\n",
       "</table>\n",
       "<p>392 rows × 5 columns</p>\n",
       "</div>"
      ],
      "text/plain": [
       "               date key  average_temperature  rainfall  relative_humidity\n",
       "9950     2020-01-01  FI            -3.450000  1.143000          94.427827\n",
       "31023    2020-01-02  FI             3.211111  0.762000          85.090429\n",
       "52095    2020-01-03  FI             1.988889  1.342571          82.629384\n",
       "73163    2020-01-04  FI            -3.377778  1.270000          86.510224\n",
       "94208    2020-01-05  FI            -8.872222  0.444500          88.163132\n",
       "...             ...  ..                  ...       ...                ...\n",
       "8154035  2021-01-22  FI           -12.483333  3.556000          81.978858\n",
       "8174061  2021-01-23  FI            -9.988889  8.445500          86.730309\n",
       "8194039  2021-01-24  FI            -2.450000  1.886857          95.967037\n",
       "8215076  2021-01-25  FI            -2.988889  2.095500          96.141700\n",
       "8236117  2021-01-26  FI            -1.666667  0.698500          97.222353\n",
       "\n",
       "[392 rows x 5 columns]"
      ]
     },
     "execution_count": 51,
     "metadata": {},
     "output_type": "execute_result"
    }
   ],
   "source": [
    "FinlandWeather"
   ]
  },
  {
   "cell_type": "code",
   "execution_count": 52,
   "metadata": {},
   "outputs": [],
   "source": [
    "Finaland_R=example_r_FINAL"
   ]
  },
  {
   "cell_type": "code",
   "execution_count": 54,
   "metadata": {},
   "outputs": [
    {
     "data": {
      "text/html": [
       "<div>\n",
       "<style scoped>\n",
       "    .dataframe tbody tr th:only-of-type {\n",
       "        vertical-align: middle;\n",
       "    }\n",
       "\n",
       "    .dataframe tbody tr th {\n",
       "        vertical-align: top;\n",
       "    }\n",
       "\n",
       "    .dataframe thead th {\n",
       "        text-align: right;\n",
       "    }\n",
       "</style>\n",
       "<table border=\"1\" class=\"dataframe\">\n",
       "  <thead>\n",
       "    <tr style=\"text-align: right;\">\n",
       "      <th></th>\n",
       "      <th>cases</th>\n",
       "      <th>R_mean</th>\n",
       "      <th>R_var</th>\n",
       "      <th>Q0.025</th>\n",
       "      <th>Q0.5</th>\n",
       "      <th>Q0.975</th>\n",
       "    </tr>\n",
       "  </thead>\n",
       "  <tbody>\n",
       "    <tr>\n",
       "      <th>2020-03-04</th>\n",
       "      <td>5.0</td>\n",
       "      <td>3.105562</td>\n",
       "      <td>0.105214</td>\n",
       "      <td>2.515766</td>\n",
       "      <td>3.094397</td>\n",
       "      <td>3.756142</td>\n",
       "    </tr>\n",
       "    <tr>\n",
       "      <th>2020-03-05</th>\n",
       "      <td>7.0</td>\n",
       "      <td>2.611179</td>\n",
       "      <td>0.061979</td>\n",
       "      <td>2.150985</td>\n",
       "      <td>2.602974</td>\n",
       "      <td>3.138378</td>\n",
       "    </tr>\n",
       "    <tr>\n",
       "      <th>2020-03-06</th>\n",
       "      <td>0.0</td>\n",
       "      <td>2.197665</td>\n",
       "      <td>0.038913</td>\n",
       "      <td>1.830659</td>\n",
       "      <td>2.192076</td>\n",
       "      <td>2.605531</td>\n",
       "    </tr>\n",
       "    <tr>\n",
       "      <th>2020-03-07</th>\n",
       "      <td>11.0</td>\n",
       "      <td>1.898963</td>\n",
       "      <td>0.026242</td>\n",
       "      <td>1.590454</td>\n",
       "      <td>1.894156</td>\n",
       "      <td>2.229300</td>\n",
       "    </tr>\n",
       "    <tr>\n",
       "      <th>2020-03-08</th>\n",
       "      <td>10.0</td>\n",
       "      <td>1.691023</td>\n",
       "      <td>0.018991</td>\n",
       "      <td>1.429543</td>\n",
       "      <td>1.687072</td>\n",
       "      <td>1.973451</td>\n",
       "    </tr>\n",
       "    <tr>\n",
       "      <th>...</th>\n",
       "      <td>...</td>\n",
       "      <td>...</td>\n",
       "      <td>...</td>\n",
       "      <td>...</td>\n",
       "      <td>...</td>\n",
       "      <td>...</td>\n",
       "    </tr>\n",
       "    <tr>\n",
       "      <th>2021-01-06</th>\n",
       "      <td>331.0</td>\n",
       "      <td>1.035495</td>\n",
       "      <td>0.001408</td>\n",
       "      <td>0.963073</td>\n",
       "      <td>1.035049</td>\n",
       "      <td>1.109968</td>\n",
       "    </tr>\n",
       "    <tr>\n",
       "      <th>2021-01-07</th>\n",
       "      <td>223.0</td>\n",
       "      <td>1.036134</td>\n",
       "      <td>0.001398</td>\n",
       "      <td>0.964149</td>\n",
       "      <td>1.035677</td>\n",
       "      <td>1.111318</td>\n",
       "    </tr>\n",
       "    <tr>\n",
       "      <th>2021-01-08</th>\n",
       "      <td>296.0</td>\n",
       "      <td>1.037047</td>\n",
       "      <td>0.001384</td>\n",
       "      <td>0.965227</td>\n",
       "      <td>1.036599</td>\n",
       "      <td>1.111552</td>\n",
       "    </tr>\n",
       "    <tr>\n",
       "      <th>2021-01-09</th>\n",
       "      <td>324.0</td>\n",
       "      <td>1.036082</td>\n",
       "      <td>0.001376</td>\n",
       "      <td>0.965357</td>\n",
       "      <td>1.035648</td>\n",
       "      <td>1.109749</td>\n",
       "    </tr>\n",
       "    <tr>\n",
       "      <th>2021-01-10</th>\n",
       "      <td>198.0</td>\n",
       "      <td>1.039758</td>\n",
       "      <td>0.001366</td>\n",
       "      <td>0.968779</td>\n",
       "      <td>1.039316</td>\n",
       "      <td>1.113801</td>\n",
       "    </tr>\n",
       "  </tbody>\n",
       "</table>\n",
       "<p>293 rows × 6 columns</p>\n",
       "</div>"
      ],
      "text/plain": [
       "            cases    R_mean     R_var    Q0.025      Q0.5    Q0.975\n",
       "2020-03-04    5.0  3.105562  0.105214  2.515766  3.094397  3.756142\n",
       "2020-03-05    7.0  2.611179  0.061979  2.150985  2.602974  3.138378\n",
       "2020-03-06    0.0  2.197665  0.038913  1.830659  2.192076  2.605531\n",
       "2020-03-07   11.0  1.898963  0.026242  1.590454  1.894156  2.229300\n",
       "2020-03-08   10.0  1.691023  0.018991  1.429543  1.687072  1.973451\n",
       "...           ...       ...       ...       ...       ...       ...\n",
       "2021-01-06  331.0  1.035495  0.001408  0.963073  1.035049  1.109968\n",
       "2021-01-07  223.0  1.036134  0.001398  0.964149  1.035677  1.111318\n",
       "2021-01-08  296.0  1.037047  0.001384  0.965227  1.036599  1.111552\n",
       "2021-01-09  324.0  1.036082  0.001376  0.965357  1.035648  1.109749\n",
       "2021-01-10  198.0  1.039758  0.001366  0.968779  1.039316  1.113801\n",
       "\n",
       "[293 rows x 6 columns]"
      ]
     },
     "execution_count": 54,
     "metadata": {},
     "output_type": "execute_result"
    }
   ],
   "source": [
    "Finaland_R"
   ]
  },
  {
   "cell_type": "code",
   "execution_count": 55,
   "metadata": {},
   "outputs": [],
   "source": [
    "Finaland_R.to_csv(\"FinlandR.csv\")\n",
    "eng_time_varying_r.to_csv('EnglandR.csv')\n",
    "example_rFRANCE_FINAL.to_csv('France.csv')\n",
    "ger_time_varying_r.to_csv('Gernamy.csv')"
   ]
  }
 ],
 "metadata": {
  "kernelspec": {
   "display_name": "Python 3",
   "language": "python",
   "name": "python3"
  },
  "language_info": {
   "codemirror_mode": {
    "name": "ipython",
    "version": 3
   },
   "file_extension": ".py",
   "mimetype": "text/x-python",
   "name": "python",
   "nbconvert_exporter": "python",
   "pygments_lexer": "ipython3",
   "version": "3.6.10"
  }
 },
 "nbformat": 4,
 "nbformat_minor": 4
}
